{
 "cells": [
  {
   "cell_type": "code",
   "execution_count": 2,
   "id": "6938db2b",
   "metadata": {},
   "outputs": [],
   "source": [
    "import numpy as np\n",
    "import matplotlib.pyplot as plt\n",
    "import pandas as pd\n",
    "from scipy.stats import norm"
   ]
  },
  {
   "cell_type": "markdown",
   "id": "672943e3",
   "metadata": {},
   "source": [
    "## Monte Carlo Simulation\n",
    "\n",
    "This is the start of the file where I will put together my volatility modeling from before and compare its performance with volatilities used by traditional pricing models. The models I will be looking at are:\n",
    "- black sholes with a constant volatility\n",
    "- heston with a stochastically calculated volatility\n",
    "- monte carlo simulation with black sholes to utilize my own modeled volatility\n",
    "- maybe hull-white with stochastically calculated volatility\n",
    "\n",
    "We will start easy with black sholes with a constant volatility. "
   ]
  },
  {
   "cell_type": "code",
   "execution_count": null,
   "id": "f5c16753",
   "metadata": {},
   "outputs": [],
   "source": [
    "#Black Scholes with constant volatility\n",
    "#simulated with a monte carlo "
   ]
  }
 ],
 "metadata": {
  "kernelspec": {
   "display_name": "Python 3",
   "language": "python",
   "name": "python3"
  },
  "language_info": {
   "codemirror_mode": {
    "name": "ipython",
    "version": 3
   },
   "file_extension": ".py",
   "mimetype": "text/x-python",
   "name": "python",
   "nbconvert_exporter": "python",
   "pygments_lexer": "ipython3",
   "version": "3.12.1"
  }
 },
 "nbformat": 4,
 "nbformat_minor": 5
}
